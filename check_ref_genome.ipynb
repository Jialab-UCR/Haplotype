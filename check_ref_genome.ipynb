{
 "cells": [
  {
   "cell_type": "code",
   "execution_count": 1,
   "metadata": {
    "collapsed": false
   },
   "outputs": [
    {
     "name": "stdout",
     "output_type": "stream",
     "text": [
      "249250621\n"
     ]
    }
   ],
   "source": [
    "###################################\n",
    "### check reference genomes\n",
    "chrLength = 0\n",
    "with open('ref_GRCh37_chr1.fa') as f:\n",
    "    for line in f:\n",
    "        line = line.rstrip()\n",
    "        if line.startswith('>'):\n",
    "            continue\n",
    "        else:\n",
    "            line = line.upper()\n",
    "            chrLength = chrLength + len(line)\n",
    "            \n",
    "print (chrLength)"
   ]
  },
  {
   "cell_type": "code",
   "execution_count": 2,
   "metadata": {
    "collapsed": false
   },
   "outputs": [
    {
     "name": "stdout",
     "output_type": "stream",
     "text": [
      "249250621\n"
     ]
    }
   ],
   "source": [
    "chrLength = 0\n",
    "with open('hs_ref_GRCh37.p5_chr1.fa') as f:\n",
    "    for line in f:\n",
    "        line = line.rstrip()\n",
    "        if line.startswith('>'):\n",
    "            continue\n",
    "        else:\n",
    "            line = line.upper()\n",
    "            chrLength = chrLength + len(line)\n",
    "            \n",
    "print (chrLength)"
   ]
  },
  {
   "cell_type": "code",
   "execution_count": 3,
   "metadata": {
    "collapsed": false
   },
   "outputs": [
    {
     "name": "stdout",
     "output_type": "stream",
     "text": [
      "249250621\n"
     ]
    }
   ],
   "source": [
    "chrLength = 0\n",
    "with open('UCSC.hg19.chr1.fa') as f:\n",
    "    for line in f:\n",
    "        line = line.rstrip()\n",
    "        if line.startswith('>'):\n",
    "            continue\n",
    "        else:\n",
    "            line = line.upper()\n",
    "            chrLength = chrLength + len(line)\n",
    "            \n",
    "print (chrLength)"
   ]
  },
  {
   "cell_type": "code",
   "execution_count": 4,
   "metadata": {
    "collapsed": false
   },
   "outputs": [
    {
     "name": "stdout",
     "output_type": "stream",
     "text": [
      "249250621\n"
     ]
    }
   ],
   "source": [
    "chrLength = 0\n",
    "with open('hs_ref_GRCh37.p13_chr1.fa') as f:\n",
    "    for line in f:\n",
    "        line = line.rstrip()\n",
    "        if line.startswith('>'):\n",
    "            continue\n",
    "        else:\n",
    "            line = line.upper()\n",
    "            chrLength = chrLength + len(line)\n",
    "            \n",
    "print (chrLength)"
   ]
  },
  {
   "cell_type": "code",
   "execution_count": 5,
   "metadata": {
    "collapsed": false
   },
   "outputs": [
    {
     "name": "stdout",
     "output_type": "stream",
     "text": [
      "249250621\n"
     ]
    }
   ],
   "source": [
    "chrLength = 0\n",
    "with open('Homo_sapiens.GRCh37.dna.chromosome.1.fa') as f:\n",
    "    for line in f:\n",
    "        line = line.rstrip()\n",
    "        if line.startswith('>'):\n",
    "            continue\n",
    "        else:\n",
    "            line = line.upper()\n",
    "            chrLength = chrLength + len(line)\n",
    "            \n",
    "print (chrLength)"
   ]
  },
  {
   "cell_type": "code",
   "execution_count": null,
   "metadata": {
    "collapsed": true
   },
   "outputs": [],
   "source": []
  }
 ],
 "metadata": {
  "anaconda-cloud": {},
  "kernelspec": {
   "display_name": "Python [Root]",
   "language": "python",
   "name": "Python [Root]"
  },
  "language_info": {
   "codemirror_mode": {
    "name": "ipython",
    "version": 3
   },
   "file_extension": ".py",
   "mimetype": "text/x-python",
   "name": "python",
   "nbconvert_exporter": "python",
   "pygments_lexer": "ipython3",
   "version": "3.5.2"
  }
 },
 "nbformat": 4,
 "nbformat_minor": 0
}

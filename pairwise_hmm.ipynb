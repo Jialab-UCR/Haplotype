{
 "cells": [
  {
   "cell_type": "code",
   "execution_count": 1,
   "metadata": {
    "collapsed": true
   },
   "outputs": [],
   "source": [
    "import os\n",
    "from collections import OrderedDict\n",
    "import re"
   ]
  },
  {
   "cell_type": "code",
   "execution_count": null,
   "metadata": {
    "collapsed": true
   },
   "outputs": [],
   "source": []
  },
  {
   "cell_type": "code",
   "execution_count": 2,
   "metadata": {
    "collapsed": true
   },
   "outputs": [],
   "source": [
    "fh = open('Pollen5_SNPs_with_na.Het.chr1.test', 'wt')\n",
    "\n",
    "with open('Pollen5_SNPs_with_na.Het.chr1.txt') as f:\n",
    "    for line in f:\n",
    "        line = line.rstrip()\n",
    "        line = line.replace('NA','N')\n",
    "        lst = line.split('\\t')\n",
    "        \n",
    "        if lst[0] == '':\n",
    "            fh.write('\\t'.join(['#chr','position']+lst[2:])+'\\n')\n",
    "            continue\n",
    "            \n",
    "        \n",
    "        chrom = lst[0].split(':')[0]\n",
    "        position = lst[0].split(':')[1]\n",
    "        \n",
    "        fh.write('\\t'.join([chrom, position]+lst[2:])+'\\n')\n",
    "        \n",
    "fh.close()\n",
    "        "
   ]
  },
  {
   "cell_type": "code",
   "execution_count": null,
   "metadata": {
    "collapsed": true
   },
   "outputs": [],
   "source": []
  },
  {
   "cell_type": "code",
   "execution_count": 23,
   "metadata": {
    "collapsed": false
   },
   "outputs": [],
   "source": []
  },
  {
   "cell_type": "code",
   "execution_count": 38,
   "metadata": {
    "collapsed": true
   },
   "outputs": [],
   "source": [
    "hetsnp_filter_file = 'hmmPol'\n",
    "\n",
    "pairwisehmm = './crossover_hmm/pairwisehmm -n 20'\n",
    "hmm_para = 'crossover_hmm/pairwise_2states.hmm'"
   ]
  },
  {
   "cell_type": "code",
   "execution_count": 39,
   "metadata": {
    "collapsed": true
   },
   "outputs": [],
   "source": [
    "Data = []\n",
    "Pos = []\n",
    "with open(hetsnp_filter_file+'.txt') as f:\n",
    "    for line in f:\n",
    "        line = line.rstrip()\n",
    "        lst = line.split('\\t')\n",
    "        \n",
    "        if line.startswith('#'):\n",
    "            Heads = lst[2:]\n",
    "            continue\n",
    "            \n",
    "        Pos.append(lst[0:2])\n",
    "        Data.append(lst[2:])"
   ]
  },
  {
   "cell_type": "code",
   "execution_count": 40,
   "metadata": {
    "collapsed": false
   },
   "outputs": [],
   "source": [
    "for ancestor in range(len(Heads)):\n",
    "    ancestor_id = Heads[ancestor]\n",
    "    crossover_file = hetsnp_filter_file+'.'+ancestor_id+'.crossover'\n",
    "    hiddenseq_file = hetsnp_filter_file+'.'+ancestor_id+'.hiddenseq'\n",
    "    CO = open(crossover_file, 'wt')\n",
    "    HS = open(hiddenseq_file, 'wt')\n",
    "    \n",
    "    for offspring in range(len(Heads)):\n",
    "        if offspring == ancestor:\n",
    "            continue\n",
    "        \n",
    "        offspring_id = Heads[offspring]\n",
    "        temp_file = hetsnp_filter_file+'.temp'\n",
    "        OUT = open(temp_file, 'wt')\n",
    "        \n",
    "        OUT.write('#chr\\tposition\\t'+ancestor_id+'\\t'+offspring_id+'\\n')\n",
    "\n",
    "        for pos in range(len(Pos)):\n",
    "            chrom = Pos[pos][0]\n",
    "            position = Pos[pos][1]\n",
    "            ancestor_base = Data[pos][ancestor]\n",
    "            offspring_base = Data[pos][offspring]\n",
    "            \n",
    "            if (ancestor_base == 'N') or (offspring_base == 'N'):\n",
    "                continue\n",
    "            OUT.write('\\t'.join([chrom, position, ancestor_base, offspring_base])+'\\n')\n",
    "                \n",
    "        OUT.close()\n",
    "        \n",
    "        os.system(pairwisehmm+' '+hmm_para+' '+temp_file)\n",
    "        \n",
    "        with open(temp_file+'.crossover') as f:\n",
    "            lines1 = f.read().splitlines()\n",
    "            \n",
    "        with open(temp_file+'.hiddenseq') as f:\n",
    "            lines2 = f.read().splitlines()\n",
    "        \n",
    "        #os.system('rm '+temp_file+' '+temp_file+'.hiddenseq '+temp_file+'.crossover')\n",
    "        \n",
    "        for line1 in lines1:\n",
    "            line1 = line1.rstrip()\n",
    "            \n",
    "            if line1.startswith('#'):\n",
    "                continue\n",
    "                \n",
    "            CO.write('\\t'.join([ancestor_id, offspring_id, line1])+'\\n')\n",
    "            \n",
    "        for line2 in lines2:\n",
    "            line2 = line2.rstrip()\n",
    "            \n",
    "            if line2.startswith('ChrID'):\n",
    "                continue\n",
    "                \n",
    "            HS.write('\\t'.join([ancestor_id, offspring_id, line2])+'\\n')\n",
    "            \n",
    "    CO.close()\n",
    "    HS.close()\n",
    "    \n",
    "    "
   ]
  },
  {
   "cell_type": "code",
   "execution_count": 6,
   "metadata": {
    "collapsed": false
   },
   "outputs": [
    {
     "data": {
      "text/plain": [
       "'Pollen5_SNPs_with_na.Het.chr1.test.pol45.crossover'"
      ]
     },
     "execution_count": 6,
     "metadata": {},
     "output_type": "execute_result"
    }
   ],
   "source": [
    "crossover_file"
   ]
  },
  {
   "cell_type": "code",
   "execution_count": 7,
   "metadata": {
    "collapsed": false
   },
   "outputs": [],
   "source": [
    "######################################################################################\n",
    "################################# filter crossovers ##################################\n",
    "\n",
    "#chr_len_file = 'hg19_for_oocyte.fa.len'\n",
    "#human_gap_file = 'hg19.fa.gap.centromere'\n",
    "\n",
    "\n",
    "pairwise_crossovers_file = crossover_file\n",
    "\n",
    "ChrLen = OrderedDict()\n",
    "CO = OrderedDict()\n",
    "MidCent = OrderedDict()\n",
    "TerCent = OrderedDict()\n",
    "\n",
    "#read_chrlen(chr_len_file, %ChrLen)\n",
    "#read_chrgap(human_gap_file, %MidCent, %TerCent)\n",
    "pairwise_crossovers_file = 'Pollen5_SNPs_with_na.Het.chr1.test.pol43.crossover'\n",
    "\n",
    "\n",
    "\n",
    "with open(pairwise_crossovers_file) as f:\n",
    "    for line in f:\n",
    "        line = line.rstrip()\n",
    "        \n",
    "        lst = line.split('\\t')\n",
    "        \n",
    "        sample = lst[1]\n",
    "        pos = int(lst[3])\n",
    "        \n",
    "        if sample not in CO.keys():\n",
    "            CO[sample] = OrderedDict()\n",
    "        CO[sample][pos] = lst\n",
    "        \n",
    "        \n",
    "fh = open(pairwise_crossovers_file+'.filter', 'wt')\n",
    "Min_dist_two_crossover = 1000000 ### default 1000000\n",
    "\n",
    "for sample_id in sorted(CO.keys()):\n",
    "    sample_p = CO[sample_id]\n",
    "    #print (sorted(sample_p.keys()))\n",
    "    \n",
    "    while 1:\n",
    "        Pos = sorted(sample_p.keys())\n",
    "        if len(Pos) < 2:\n",
    "            break\n",
    "        has_delete = 0\n",
    "    \n",
    "        for i in range(1,len(Pos)):\n",
    "            if Pos[i] - Pos[i-1] < Min_dist_two_crossover:\n",
    "                del sample_p[Pos[i]]\n",
    "                del sample_p[Pos[i-1]]\n",
    "                has_delete = 1\n",
    "                break\n",
    "                \n",
    "        if has_delete == 0:\n",
    "            break\n",
    "            \n",
    "    \n",
    "    Pos = sorted(sample_p.keys())\n",
    "    \n",
    "    if len(Pos) >= 1:\n",
    "        if int(Pos[0]) < Min_dist_two_crossover:\n",
    "            del sample_p[Pos[0]]\n",
    "            \n",
    "        #if Pos[-1] > ChrLen[ChrID]-Min_dist_two_crossover:\n",
    "        #    del sample_p[Pos[-1]]\n",
    "            \n",
    "    for pos in sorted(sample_p.keys()):\n",
    "        pos_p = sample_p[pos]\n",
    "        pos_p[7] = '1'\n",
    "        line = '\\t'.join(pos_p)\n",
    "        #print (line)\n",
    "        fh.write(line+'\\n')\n",
    "        \n",
    "fh.close()"
   ]
  },
  {
   "cell_type": "code",
   "execution_count": null,
   "metadata": {
    "collapsed": false
   },
   "outputs": [],
   "source": []
  },
  {
   "cell_type": "code",
   "execution_count": 8,
   "metadata": {
    "collapsed": false
   },
   "outputs": [],
   "source": [
    "#####################################################################################\n",
    "################################# infer crossovers ##################################\n",
    "\n",
    "pairwise_crossovers_file = 'Pollen5_SNPs_with_na.Het.chr1.test.pol45.crossover.filter'\n",
    "\n",
    "Distance_cutoff = 1000000\n",
    "Reference_crossover_ratio = 0.6\n",
    "Sample_total = 5\n",
    "CO = []\n",
    "\n",
    "with open(pairwise_crossovers_file) as f:\n",
    "    for line in f:\n",
    "        line = line.rstrip()\n",
    "        lst = line.split('\\t')\n",
    "        \n",
    "        sample = lst[1]\n",
    "        pos = lst[3]\n",
    "        \n",
    "        CO.append(lst)\n",
    "        \n",
    "CO.sort(key=lambda x: int(x[3]))\n",
    "\n",
    "\n",
    "fh = open(pairwise_crossovers_file+'.cluster', 'wt')\n",
    "\n",
    "if len(CO) >= 1:\n",
    "    cluster = []\n",
    "    Confident_crossover_id = 1\n",
    "    cluster.append(CO[0])\n",
    "    \n",
    "    for i in range(1, len(CO)):\n",
    "        this_pos = int(CO[i][3])\n",
    "        cluster_end = int(cluster[-1][3])\n",
    "        \n",
    "        if this_pos - cluster_end < Distance_cutoff:\n",
    "            cluster.append(CO[i])\n",
    "            \n",
    "        else:\n",
    "            Count = OrderedDict()\n",
    "            \n",
    "            for j in range(len(cluster)):\n",
    "                sample = cluster[j][1]\n",
    "                Count[sample] = cluster[j]\n",
    "                \n",
    "            number = len(Count)\n",
    "            pos_centered = 0\n",
    "            \n",
    "            for sample in Count.keys():\n",
    "                pos_centered += int(Count[sample][3])\n",
    "                \n",
    "            pos_centered = int(pos_centered/number)\n",
    "            ratio = number/Sample_total\n",
    "            \n",
    "            if ratio >= Reference_crossover_ratio:\n",
    "                fh.write(' '.join(map(str,['\\n**',Confident_crossover_id,'Confident Reference Crossover:',pos_centered,ratio]))+'\\n')\n",
    "                Confident_crossover_id += 1\n",
    "                \n",
    "            else:\n",
    "                fh.write('\\n## Reference crossover:  '+str(pos_centered)+' '+str(ratio)+'\\n')\n",
    "                \n",
    "            for p in cluster:\n",
    "                line = '\\t'.join(p)\n",
    "                fh.write(line+'\\n')\n",
    "                \n",
    "            cluster = []\n",
    "            cluster.append(CO[i])\n",
    "                \n",
    "    if (len(cluster)> 0):\n",
    "        Count = OrderedDict()\n",
    "            \n",
    "        for j in range(len(cluster)):\n",
    "            sample = cluster[j][1]\n",
    "            Count[sample] = cluster[j]\n",
    "                \n",
    "        number = len(Count)\n",
    "        pos_centered = 0\n",
    "            \n",
    "        for sample in Count.keys():\n",
    "            pos_centered += int(Count[sample][3])\n",
    "                \n",
    "        pos_centered = int(pos_centered/number)\n",
    "        ratio = number/Sample_total\n",
    "            \n",
    "        if ratio >= Reference_crossover_ratio:\n",
    "            fh.write(' '.join(map(str,['\\n**',Confident_crossover_id,'Confident Reference Crossover:',pos_centered,ratio]))+'\\n')\n",
    "            Confident_crossover_id += 1\n",
    "                \n",
    "        else:\n",
    "            fh.write('\\n## Reference crossover:  '+str(pos_centered)+' '+str(ratio)+'\\n')\n",
    "                \n",
    "        for p in cluster:\n",
    "            line = '\\t'.join(p)\n",
    "            fh.write(line+'\\n')\n",
    "            \n",
    "fh.close()"
   ]
  },
  {
   "cell_type": "code",
   "execution_count": 9,
   "metadata": {
    "collapsed": false
   },
   "outputs": [],
   "source": [
    "#############################################################################\n",
    "######################### merge pairwise phased snps ########################\n",
    "\n",
    "from glob import glob\n",
    "hetsnp_filter_file = 'Pollen5_SNPs_with_na.Het.chr1.test'\n",
    "\n",
    "Crossover = OrderedDict()\n",
    "SAMPLE = OrderedDict()\n",
    "\n",
    "files = sorted(glob('*.crossover.filter.cluster'))\n",
    "\n",
    "for file in files:\n",
    "    mtch = re.search(hetsnp_filter_file+'.(\\w+)'+'.crossover.filter.cluster', file)\n",
    "    sample = mtch.group(1)\n",
    "    SAMPLE[sample] = 1\n",
    "    \n",
    "    with open(file) as f:\n",
    "        for line in f:\n",
    "            line = line.rstrip()\n",
    "            if line.startswith('**'):\n",
    "                lst = line.split(' ')\n",
    "                \n",
    "                crossover_pos = int(lst[-2])\n",
    "                ratio = float(lst[-1])\n",
    "                \n",
    "                if sample not in Crossover.keys():\n",
    "                    Crossover[sample] = OrderedDict()\n",
    "                \n",
    "                Crossover[sample][crossover_pos] = ratio\n",
    "                "
   ]
  },
  {
   "cell_type": "code",
   "execution_count": 10,
   "metadata": {
    "collapsed": false
   },
   "outputs": [
    {
     "name": "stdout",
     "output_type": "stream",
     "text": [
      "sample\t2\n",
      "\n",
      "sample\t3\n",
      "\n",
      "sample\t2\n",
      "\n",
      "sample\t4\n",
      "\n",
      "sample\t1\n",
      "\n"
     ]
    }
   ],
   "source": [
    "##create %Phase data structure\n",
    "\n",
    "ChrLen = OrderedDict()\n",
    "chrID = 'chr1'\n",
    "ChrLen[chrID] = 29341521\n",
    "\n",
    "Phase = OrderedDict()\n",
    "\n",
    "for sample in SAMPLE.keys():\n",
    "    ary = []\n",
    "    last_pos = 1\n",
    "    last_status = 1\n",
    "    \n",
    "    if sample in Crossover.keys():\n",
    "        sample_p = Crossover[sample]\n",
    "        \n",
    "        for cur_pos in sorted(sample_p.keys()):\n",
    "            ary.append([last_pos, cur_pos, last_status])\n",
    "            last_pos = cur_pos\n",
    "            last_status = -last_status\n",
    "            \n",
    "    ary.append([last_pos, ChrLen[chrID], last_status])\n",
    "    Phase[sample] = ary\n",
    "    \n",
    "    number = len(ary)\n",
    "    \n",
    "    print ('sample\\t'+str(number)+'\\n')  "
   ]
  },
  {
   "cell_type": "code",
   "execution_count": 11,
   "metadata": {
    "collapsed": true
   },
   "outputs": [],
   "source": [
    "#### Ö»¶ÁÈ¡Ïž°ûBºÍCµÄÊýŸÝ£¬²»ÒªanenploidyµÄchromosomes, ÒòÎªÕâÊÇ×öphasingËùÐèÒªµÄ\n",
    "\n",
    "Heads = OrderedDict()\n",
    "HetSNP = OrderedDict()\n",
    "SNP = OrderedDict()\n",
    "\n",
    "hetsnp_filter_file = 'Pollen5_SNPs_with_na.Het.chr1.test'\n",
    "\n",
    "with open(hetsnp_filter_file) as f:\n",
    "    for line in f:\n",
    "        line = line.rstrip()\n",
    "        lst = line.split('\\t')\n",
    "        \n",
    "        if line.startswith('#'):\n",
    "            for i in range(4,len(lst)):\n",
    "                Heads[i] = lst[i]\n",
    "            continue\n",
    "            \n",
    "        chrom = lst[0]\n",
    "        pos = int(lst[1])\n",
    "        \n",
    "        HetSNP[pos] = [lst[2], lst[3]]  ### ?\n",
    "        \n",
    "        for i in range(4, len(lst)):\n",
    "            sample = Heads[i]\n",
    "            \n",
    "            if sample not in SNP.keys():\n",
    "                SNP[sample] = OrderedDict()\n",
    "            \n",
    "            SNP[sample][pos] = lst[i]"
   ]
  },
  {
   "cell_type": "code",
   "execution_count": null,
   "metadata": {
    "collapsed": true
   },
   "outputs": [],
   "source": []
  },
  {
   "cell_type": "code",
   "execution_count": 12,
   "metadata": {
    "collapsed": false
   },
   "outputs": [],
   "source": [
    "##phasing each sample to be one haplotype\n",
    "\n",
    "for sample in SNP.keys():\n",
    "    sample_p = SNP[sample] ### will change SNP\n",
    "    \n",
    "    for pos in sorted(sample_p.keys()):\n",
    "        base = sample_p[pos]\n",
    "        \n",
    "        if base != 'N':\n",
    "            phase_p = Phase[sample]\n",
    "            for p in phase_p:\n",
    "                if pos >= int(p[0]) and pos <= int(p[1]):\n",
    "                    phase_status = p[2]\n",
    "                    break\n",
    "                    \n",
    "            if phase_status == -1:\n",
    "                allele_p = HetSNP[pos]\n",
    "                for allele in allele_p:\n",
    "                    if allele != base:\n",
    "                        base = allele\n",
    "                        break\n",
    "    \n",
    "        sample_p[pos] = base\n",
    "                \n",
    "            "
   ]
  },
  {
   "cell_type": "code",
   "execution_count": null,
   "metadata": {
    "collapsed": false
   },
   "outputs": [],
   "source": []
  },
  {
   "cell_type": "code",
   "execution_count": 13,
   "metadata": {
    "collapsed": false
   },
   "outputs": [
    {
     "name": "stdout",
     "output_type": "stream",
     "text": [
      "Reference: pol41\n",
      "0.9919951047337887\n",
      "Reference: pol42\n",
      "0.9822634437509241\n",
      "Reference: pol43\n",
      "0.9928235622474422\n",
      "Reference: pol44\n",
      "0.9888438903555724\n",
      "Reference: pol45\n",
      "0.9936205374418811\n",
      "\n",
      "Reference sample: pol45\t0.9936205374418811\n"
     ]
    }
   ],
   "source": [
    "##find the reference sample that has the highest similarity to the other samples\n",
    "\n",
    "ref_ratio = -1\n",
    "\n",
    "for reference in sorted(SNP.keys()):\n",
    "    print ('Reference: '+ reference)\n",
    "    average_ratio = 0\n",
    "    number = 0\n",
    "    \n",
    "    for query in sorted(SNP.keys()):\n",
    "        if reference == query:\n",
    "            continue\n",
    "            \n",
    "        sample_p = SNP[query]\n",
    "        total_num = 0\n",
    "        same_num = 0\n",
    "        \n",
    "        for pos in sorted(sample_p.keys()):\n",
    "            base = sample_p[pos]\n",
    "            ref_base = SNP[reference][pos]\n",
    "            \n",
    "            if base != 'N' and ref_base != 'N':\n",
    "                total_num += 1\n",
    "                \n",
    "                if base == ref_base:\n",
    "                    same_num += 1\n",
    "                    \n",
    "        ratio = same_num/total_num\n",
    "            \n",
    "        if ratio > 0.5:\n",
    "            relationship = 1\n",
    "        else:\n",
    "            relationship = -1\n",
    "                \n",
    "        if relationship == -1:\n",
    "            ratio = 1 - ratio\n",
    "                \n",
    "        average_ratio += ratio\n",
    "        ratio = int(ratio * 100)\n",
    "        number += 1\n",
    "            \n",
    "    average_ratio = average_ratio/number\n",
    "        \n",
    "    if ref_ratio == -1 or average_ratio > ref_ratio:\n",
    "        ref_sample = reference\n",
    "        ref_ratio = average_ratio\n",
    "            \n",
    "    print (average_ratio)\n",
    "        \n",
    "print ('\\nReference sample: '+ref_sample+'\\t'+str(ref_ratio))\n",
    "\n",
    "        "
   ]
  },
  {
   "cell_type": "code",
   "execution_count": null,
   "metadata": {
    "collapsed": false
   },
   "outputs": [],
   "source": []
  },
  {
   "cell_type": "code",
   "execution_count": 14,
   "metadata": {
    "collapsed": false
   },
   "outputs": [
    {
     "name": "stdout",
     "output_type": "stream",
     "text": [
      "Good consistence between pol45 and pol41: 0.9988693112220861\t1\n",
      "Good consistence between pol45 and pol42: 0.9871620307333203\t1\n",
      "Good consistence between pol45 and pol43: 0.9982195666606313\t-1\n",
      "Good consistence between pol45 and pol44: 0.9902312411514865\t-1\n"
     ]
    }
   ],
   "source": [
    "##calculate the relationship between reference sample haptype and the other cells\n",
    "##change all the cells' haploptype to the reference' haplotype\n",
    "\n",
    "for sample in sorted(SNP.keys()):\n",
    "    if sample == ref_sample:\n",
    "        continue\n",
    "        \n",
    "    sample_p = SNP[sample]\n",
    "    total_num = 0\n",
    "    same_num = 0\n",
    "        \n",
    "    for pos in sorted(sample_p.keys()):\n",
    "        base = sample_p[pos]\n",
    "        ref_base = SNP[ref_sample][pos]\n",
    "            \n",
    "        if base != 'N' and ref_base != 'N':\n",
    "            total_num += 1\n",
    "                \n",
    "            if base == ref_base:\n",
    "                same_num += 1\n",
    "                    \n",
    "    ratio = same_num/total_num\n",
    "            \n",
    "    if ratio > 0.5:\n",
    "        relationship = 1\n",
    "    else:\n",
    "        relationship = -1\n",
    "                \n",
    "    if relationship == -1:\n",
    "        ratio = 1 - ratio\n",
    "        \n",
    "    if ratio < 0.85:\n",
    "        print ('Warning: bad consistence between '+ref_sample+' and '+sample+': '+str(ratio)+'\\t'+str(relationship))\n",
    "    else:\n",
    "        print ('Good consistence between '+ref_sample+' and '+sample+': '+str(ratio)+'\\t'+str(relationship))\n",
    "        \n",
    "        \n",
    "    if relationship == -1:\n",
    "        for pos in sorted(sample_p.keys()):\n",
    "            base = sample_p[pos]\n",
    "            ref_base = SNP[ref_sample][pos]\n",
    "            if base == 'N':\n",
    "                continue\n",
    "            allele_p = HetSNP[pos]\n",
    "            \n",
    "            for allele in allele_p:\n",
    "                if allele != base:\n",
    "                    alt_base = allele\n",
    "                    break\n",
    "                    \n",
    "            sample_p[pos] = alt_base"
   ]
  },
  {
   "cell_type": "code",
   "execution_count": null,
   "metadata": {
    "collapsed": false
   },
   "outputs": [],
   "source": []
  },
  {
   "cell_type": "code",
   "execution_count": null,
   "metadata": {
    "collapsed": false
   },
   "outputs": [],
   "source": []
  },
  {
   "cell_type": "code",
   "execution_count": 15,
   "metadata": {
    "collapsed": false
   },
   "outputs": [],
   "source": [
    "fh = open('test.txt', 'wt')\n",
    "for ke in SNP.keys():\n",
    "    fh.write(ke+'\\n')\n",
    "    for k in SNP[ke].keys():\n",
    "        fh.write(str(SNP[ke][k])+'\\n')\n",
    "        \n",
    "fh.close()"
   ]
  },
  {
   "cell_type": "code",
   "execution_count": null,
   "metadata": {
    "collapsed": true
   },
   "outputs": [],
   "source": []
  },
  {
   "cell_type": "code",
   "execution_count": null,
   "metadata": {
    "collapsed": true
   },
   "outputs": [],
   "source": [
    "##merge all the haplotyp to form the donor's phased hetSNP sets\n",
    "fh = open(hetsnp_filter_file+'.phased', 'wt')\n",
    "\n",
    "fh.write(\"ChrID\\tpos\\thap1\\thap2\\tcover\\tconsistence%\\n\")\n",
    "\n",
    "p = SNP[ref_sample]\n",
    "\n",
    "for pos in sorted(p.keys()):\n",
    "    Count = OrderedDict()\n",
    "    total = 0\n",
    "    \n",
    "    for sample in sorted(SNP.keys()):\n",
    "        base = SNP[sample][pos]\n",
    "        if base != 'N':\n",
    "            if base not in Count.keys():\n",
    "                Count[base] = 0\n",
    "            Count[base] += 1\n",
    "            total += 1\n",
    "            \n",
    "    if len(Count) == 0:\n",
    "        print (str(pos)+' no genotype')\n",
    "        continue\n",
    "            \n",
    "    ary = sorted(Count, key=Count.__getitem__, reverse=True)\n",
    "    major_base = ary[0]\n",
    "    \n",
    "    if total < 2 or Count[major_base]/total < 0.6:\n",
    "        print (str(pos)+' low confidence')\n",
    "        continue\n",
    "        \n",
    "    major_rate = int(Count[major_base]/total*100)\n",
    "        \n",
    "    allele_p = HetSNP[pos]\n",
    "    for allele in allele_p:\n",
    "        if allele != major_base:\n",
    "            alt_base = allele\n",
    "            break\n",
    "            \n",
    "    fh.write('\\t'.join(map(str,[chrID, pos, major_base, alt_base, total, major_rate]))+'%\\n')\n",
    "    \n",
    "fh.close()"
   ]
  },
  {
   "cell_type": "code",
   "execution_count": null,
   "metadata": {
    "collapsed": true
   },
   "outputs": [],
   "source": []
  },
  {
   "cell_type": "code",
   "execution_count": 322,
   "metadata": {
    "collapsed": true
   },
   "outputs": [],
   "source": [
    "from operator import itemgetter"
   ]
  },
  {
   "cell_type": "code",
   "execution_count": 356,
   "metadata": {
    "collapsed": false
   },
   "outputs": [],
   "source": [
    "x = {'x':1,'a':4,'z':3}\n",
    "#sorted_x = [ke for ke insorted(x.items(), key=itemgetter(1), reverse=True)"
   ]
  },
  {
   "cell_type": "code",
   "execution_count": 364,
   "metadata": {
    "collapsed": false
   },
   "outputs": [
    {
     "data": {
      "text/plain": [
       "odict_keys([])"
      ]
     },
     "execution_count": 364,
     "metadata": {},
     "output_type": "execute_result"
    }
   ],
   "source": [
    "Count.keys()"
   ]
  },
  {
   "cell_type": "code",
   "execution_count": 363,
   "metadata": {
    "collapsed": false
   },
   "outputs": [
    {
     "data": {
      "text/plain": [
       "[]"
      ]
     },
     "execution_count": 363,
     "metadata": {},
     "output_type": "execute_result"
    }
   ],
   "source": [
    "sorted(Count.values(), reverse=True)"
   ]
  },
  {
   "cell_type": "code",
   "execution_count": 357,
   "metadata": {
    "collapsed": false
   },
   "outputs": [
    {
     "data": {
      "text/plain": [
       "['a', 'z', 'x']"
      ]
     },
     "execution_count": 357,
     "metadata": {},
     "output_type": "execute_result"
    }
   ],
   "source": [
    "sorted(x, key=x.__getitem__, reverse=True)"
   ]
  },
  {
   "cell_type": "code",
   "execution_count": 160,
   "metadata": {
    "collapsed": false
   },
   "outputs": [
    {
     "name": "stdout",
     "output_type": "stream",
     "text": [
      "pol41\t26530917\n",
      "pol42\t5778526\n",
      "pol42\t23291445\n",
      "pol43\t23460964\n",
      "pol44\t3193425\n",
      "pol44\t5383005\n",
      "pol44\t24995179\n"
     ]
    }
   ],
   "source": [
    "for ke, val in Crossover.items():\n",
    "    for k in val.keys():\n",
    "        print (ke+'\\t'+k)"
   ]
  },
  {
   "cell_type": "code",
   "execution_count": null,
   "metadata": {
    "collapsed": false
   },
   "outputs": [],
   "source": []
  },
  {
   "cell_type": "code",
   "execution_count": null,
   "metadata": {
    "collapsed": true
   },
   "outputs": [],
   "source": []
  }
 ],
 "metadata": {
  "anaconda-cloud": {},
  "kernelspec": {
   "display_name": "Python [Root]",
   "language": "python",
   "name": "Python [Root]"
  },
  "language_info": {
   "codemirror_mode": {
    "name": "ipython",
    "version": 3
   },
   "file_extension": ".py",
   "mimetype": "text/x-python",
   "name": "python",
   "nbconvert_exporter": "python",
   "pygments_lexer": "ipython3",
   "version": "3.5.2"
  }
 },
 "nbformat": 4,
 "nbformat_minor": 0
}

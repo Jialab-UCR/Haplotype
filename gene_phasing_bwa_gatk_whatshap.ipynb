{
 "cells": [
  {
   "cell_type": "code",
   "execution_count": null,
   "metadata": {
    "collapsed": true
   },
   "outputs": [],
   "source": []
  },
  {
   "cell_type": "markdown",
   "metadata": {},
   "source": [
    "## Index reference genome"
   ]
  },
  {
   "cell_type": "code",
   "execution_count": null,
   "metadata": {
    "collapsed": true
   },
   "outputs": [],
   "source": [
    "os.system('bwa index references.fasta')\n",
    "os.system('samtools faidx references.fasta')\n",
    "os.system('java -jar picard.jar CreateSequenceDictionary \\\n",
    "               R=references.fasta \\\n",
    "               O=references.dict')"
   ]
  },
  {
   "cell_type": "code",
   "execution_count": null,
   "metadata": {
    "collapsed": true
   },
   "outputs": [],
   "source": []
  },
  {
   "cell_type": "markdown",
   "metadata": {},
   "source": [
    "## Alignment using speedseq"
   ]
  },
  {
   "cell_type": "code",
   "execution_count": null,
   "metadata": {
    "collapsed": true
   },
   "outputs": [],
   "source": [
    "os.system('speedseq align -o JT168_S62.filtered \\\n",
    "               -R \"@RG\\tID:id\\tSM:JT168_S62\\tLB:lib\" \\\n",
    "               references.fasta \\\n",
    "               JT168_S62_R1_filtered.fastq.gz \\\n",
    "               JT168_S62_R2_filtered.fastq.gz')"
   ]
  },
  {
   "cell_type": "code",
   "execution_count": null,
   "metadata": {
    "collapsed": true
   },
   "outputs": [],
   "source": [
    "# samtools view -h -o JT168_S62.filtered.sam JT168_S62.filtered.bam"
   ]
  },
  {
   "cell_type": "code",
   "execution_count": null,
   "metadata": {
    "collapsed": true
   },
   "outputs": [],
   "source": []
  },
  {
   "cell_type": "markdown",
   "metadata": {},
   "source": [
    "## Variant calling by GATK"
   ]
  },
  {
   "cell_type": "code",
   "execution_count": null,
   "metadata": {
    "collapsed": true
   },
   "outputs": [],
   "source": [
    "os.system('java -Xmx16g -jar GenomeAnalysisTK.jar -T HaplotypeCaller \\\n",
    "               -R references.fasta \\\n",
    "               -I JT168_S62.filtered.bam \\\n",
    "               -o JT168_S62.filtered.gatk.raw.vcf \\\n",
    "               -nct 8 \\\n",
    "               -allowPotentiallyMisencodedQuals \\\n",
    "               --allow_potentially_misencoded_quality_scores \\\n",
    "               --genotyping_mode DISCOVERY \\\n",
    "               -stand_call_conf 30 \\\n",
    "               -stand_emit_conf 10 \\\n",
    "               --defaultBaseQualities 30 \\\n",
    "               -variant_index_type LINEAR \\\n",
    "               -variant_index_parameter 128000')"
   ]
  },
  {
   "cell_type": "code",
   "execution_count": null,
   "metadata": {
    "collapsed": true
   },
   "outputs": [],
   "source": []
  },
  {
   "cell_type": "markdown",
   "metadata": {},
   "source": [
    "## Read-based haplotype phasing with whatshap"
   ]
  },
  {
   "cell_type": "code",
   "execution_count": null,
   "metadata": {
    "collapsed": true
   },
   "outputs": [],
   "source": [
    "os.system('whatshap phase --indels --max-coverage 20 \\\n",
    "              -o JT168_S62.filtered.phased.vcf \\\n",
    "              JT168_S62.filtered.gatk.raw.vcf \\\n",
    "              JT168_S62.filtered.bam')"
   ]
  },
  {
   "cell_type": "code",
   "execution_count": null,
   "metadata": {
    "collapsed": true
   },
   "outputs": [],
   "source": []
  },
  {
   "cell_type": "code",
   "execution_count": 3,
   "metadata": {
    "collapsed": false
   },
   "outputs": [],
   "source": [
    "fh = open('JT168_S62.filtered.whatshap.phase.clean.txt', 'wt')\n",
    "\n",
    "\n",
    "with open('JT168_S62.filtered.whatshap.phase.vcf') as f:\n",
    "    for line in f:\n",
    "        line = line.rstrip()\n",
    "        \n",
    "        if line.startswith('#'):\n",
    "            continue\n",
    "            \n",
    "        lst = line.split('\\t')\n",
    "        \n",
    "        fh.write('\\t'.join([lst[0],lst[1],lst[3],lst[4], lst[-1]])+'\\n')\n",
    "        \n",
    "fh.close()"
   ]
  },
  {
   "cell_type": "code",
   "execution_count": null,
   "metadata": {
    "collapsed": true
   },
   "outputs": [],
   "source": []
  },
  {
   "cell_type": "markdown",
   "metadata": {},
   "source": [
    "## Read-based haplotype phasing with HapCut2"
   ]
  },
  {
   "cell_type": "code",
   "execution_count": null,
   "metadata": {
    "collapsed": true
   },
   "outputs": [],
   "source": [
    "### installation\n",
    "git clone https://github.com/vibansal/HapCUT2.git\n",
    "cd HapCUT2/\n",
    "make\n",
    "\n",
    "sudo make install-hairs\n",
    "sudo make install-hapcut2"
   ]
  },
  {
   "cell_type": "code",
   "execution_count": null,
   "metadata": {
    "collapsed": true
   },
   "outputs": [],
   "source": [
    "### convert BAM file to the compact fragment file format containing only haplotype-relevant information. \n",
    "./build/extractHAIRS --bam ../JT168_S62.filtered.bam \n",
    "--VCF ../JT168_S62.filtered.gatk.raw.vcf \n",
    "--out ../JT168_S62.fragment_file"
   ]
  },
  {
   "cell_type": "code",
   "execution_count": null,
   "metadata": {
    "collapsed": true
   },
   "outputs": [],
   "source": [
    "### use HAPCUT2 to assemble fragment file into haplotype blocks.\n",
    "./build/HAPCUT2 --fragments ../JT168_S62.fragment_file\n",
    "--vcf ../JT168_S62.filtered.gatk.raw.vcf \n",
    "--output ../JT168_S62.filtered.hapcut2.phase.vcf"
   ]
  },
  {
   "cell_type": "code",
   "execution_count": null,
   "metadata": {
    "collapsed": true
   },
   "outputs": [],
   "source": []
  },
  {
   "cell_type": "code",
   "execution_count": null,
   "metadata": {
    "collapsed": true
   },
   "outputs": [],
   "source": []
  },
  {
   "cell_type": "code",
   "execution_count": 1,
   "metadata": {
    "collapsed": true
   },
   "outputs": [],
   "source": [
    "seq = {}\n",
    "\n",
    "\n",
    "with open('JT168_S62.sam') as f:\n",
    "    for line in f:\n",
    "        line = line.rstrip()\n",
    "        \n",
    "        lst = line.split('\\t')\n",
    "        \n",
    "        if lst[0].startswith('@'):\n",
    "            continue\n",
    "            \n",
    "        else:\n",
    "            if lst[2] not in seq:\n",
    "                seq[lst[2]] = []\n",
    "                \n",
    "            seq[lst[2]].append(line)"
   ]
  },
  {
   "cell_type": "code",
   "execution_count": null,
   "metadata": {
    "collapsed": true
   },
   "outputs": [],
   "source": []
  },
  {
   "cell_type": "code",
   "execution_count": 3,
   "metadata": {
    "collapsed": true
   },
   "outputs": [],
   "source": [
    "for ke, val in seq.items():\n",
    "    if ke == '*':\n",
    "        continue\n",
    "        \n",
    "    else:\n",
    "        fh = open(ke+'.sam', 'wt')\n",
    "        \n",
    "        fh.write('\\n'.join(val))\n",
    "        \n",
    "        fh.close()\n",
    "            "
   ]
  },
  {
   "cell_type": "code",
   "execution_count": null,
   "metadata": {
    "collapsed": true
   },
   "outputs": [],
   "source": []
  }
 ],
 "metadata": {
  "anaconda-cloud": {},
  "kernelspec": {
   "display_name": "Python [Root]",
   "language": "python",
   "name": "Python [Root]"
  },
  "language_info": {
   "codemirror_mode": {
    "name": "ipython",
    "version": 3
   },
   "file_extension": ".py",
   "mimetype": "text/x-python",
   "name": "python",
   "nbconvert_exporter": "python",
   "pygments_lexer": "ipython3",
   "version": "3.5.2"
  }
 },
 "nbformat": 4,
 "nbformat_minor": 0
}

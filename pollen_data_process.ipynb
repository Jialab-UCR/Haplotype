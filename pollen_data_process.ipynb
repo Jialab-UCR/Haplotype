{
 "cells": [
  {
   "cell_type": "code",
   "execution_count": 1,
   "metadata": {
    "collapsed": false
   },
   "outputs": [
    {
     "name": "stdout",
     "output_type": "stream",
     "text": [
      "Number of heterozygous SNPs: 611829\n",
      "Number of SNPs without NA: 221292\n"
     ]
    }
   ],
   "source": [
    "import os\n",
    "import re\n",
    "from collections import OrderedDict\n",
    "os.chdir('/home/ruidong/Documents/Research/Haplotype/Data/Citrus_IMPORTANT/')\n",
    "\n",
    "donorSNP = OrderedDict()\n",
    "refSNP = OrderedDict() \n",
    "altSNP = OrderedDict()\n",
    "pollenSNP = OrderedDict()\n",
    "\n",
    "with open('dbSNP.clean.Het.vcf', 'rt') as f:\n",
    "    for line in f:\n",
    "        line = line.rstrip()\n",
    "        lst = line.split('\\t')\n",
    "        \n",
    "        if line.startswith('#'):\n",
    "            continue\n",
    "        \n",
    "        elif lst[-1].startswith('0/0') or lst[-1].startswith('1/1'):\n",
    "            continue\n",
    "            \n",
    "        else:\n",
    "            coord = lst[0]+':'+lst[1]\n",
    "            refSNP[coord] = lst[3]\n",
    "            altSNP[coord] = lst[4]\n",
    "            donorSNP[coord] = lst[3]+'/'+lst[4]\n",
    "            pollenSNP[coord] = ['NA']*5\n",
    "\n",
    "            \n",
    "with open('Pollen41.gatk.snp.raw.vcf','rt') as f:\n",
    "    for line in f:\n",
    "        line = line.rstrip()\n",
    "        lst = line.split('\\t')\n",
    "        \n",
    "        if line.startswith('#'):\n",
    "            continue\n",
    "        elif lst[0]+':'+lst[1] not in donorSNP.keys():\n",
    "            continue\n",
    "        else:\n",
    "            coord = lst[0]+':'+lst[1]\n",
    "            gt = lst[-1].split(':')\n",
    "            if gt[0] == './.' or gt[0]=='0/1' or gt[0]=='1/0' or int(gt[2]) < 2:\n",
    "                continue\n",
    "            elif gt[0] == '0/0':\n",
    "                pollenSNP[coord][0] = lst[3]\n",
    "            elif gt[0] =='1/1':\n",
    "                pollenSNP[coord][0] = lst[4]\n",
    "                \n",
    "                \n",
    "with open('Pollen42.gatk.snp.raw.vcf','rt') as f:\n",
    "    for line in f:\n",
    "        line = line.rstrip()\n",
    "        lst = line.split('\\t')\n",
    "        \n",
    "        if line.startswith('#'):\n",
    "            continue\n",
    "        elif lst[0]+':'+lst[1] not in donorSNP.keys():\n",
    "            continue\n",
    "        else:\n",
    "            coord = lst[0]+':'+lst[1]\n",
    "            gt = lst[-1].split(':')\n",
    "            if gt[0] == './.' or gt[0]=='0/1' or gt[0]=='1/0' or int(gt[2]) < 2:\n",
    "                continue\n",
    "            elif gt[0] == '0/0':\n",
    "                pollenSNP[coord][1] = lst[3]\n",
    "            elif gt[0] =='1/1':\n",
    "                pollenSNP[coord][1] = lst[4] \n",
    "                \n",
    "                \n",
    "with open('Pollen43.gatk.snp.raw.vcf','rt') as f:\n",
    "    for line in f:\n",
    "        line = line.rstrip()\n",
    "        lst = line.split('\\t')\n",
    "        \n",
    "        if line.startswith('#'):\n",
    "            continue\n",
    "        elif lst[0]+':'+lst[1] not in donorSNP.keys():\n",
    "            continue\n",
    "        else:\n",
    "            coord = lst[0]+':'+lst[1]\n",
    "            gt = lst[-1].split(':')\n",
    "            if gt[0] == './.' or gt[0]=='0/1' or gt[0]=='1/0' or int(gt[2]) < 2:\n",
    "                continue\n",
    "            elif gt[0] == '0/0':\n",
    "                pollenSNP[coord][2] = lst[3]\n",
    "            elif gt[0] =='1/1':\n",
    "                pollenSNP[coord][2] = lst[4]             \n",
    "                \n",
    "                \n",
    "with open('Pollen44.gatk.snp.raw.vcf','rt') as f:\n",
    "    for line in f:\n",
    "        line = line.rstrip()\n",
    "        lst = line.split('\\t')\n",
    "        \n",
    "        if line.startswith('#'):\n",
    "            continue\n",
    "        elif lst[0]+':'+lst[1] not in donorSNP.keys():\n",
    "            continue\n",
    "        else:\n",
    "            coord = lst[0]+':'+lst[1]\n",
    "            gt = lst[-1].split(':')\n",
    "            if gt[0] == './.' or gt[0]=='0/1' or gt[0]=='1/0' or int(gt[2]) < 2:\n",
    "                continue\n",
    "            elif gt[0] == '0/0':\n",
    "                pollenSNP[coord][3] = lst[3]\n",
    "            elif gt[0] =='1/1':\n",
    "                pollenSNP[coord][3] = lst[4] \n",
    "                \n",
    "                \n",
    "with open('Pollen45.gatk.snp.raw.vcf','rt') as f:\n",
    "    for line in f:\n",
    "        line = line.rstrip()\n",
    "        lst = line.split('\\t')\n",
    "        \n",
    "        if line.startswith('#'):\n",
    "            continue\n",
    "        elif lst[0]+':'+lst[1] not in donorSNP.keys():\n",
    "            continue\n",
    "        else:\n",
    "            coord = lst[0]+':'+lst[1]\n",
    "            gt = lst[-1].split(':')\n",
    "            if gt[0] == './.' or gt[0]=='0/1' or gt[0]=='1/0' or int(gt[2]) < 2:\n",
    "                continue\n",
    "            elif gt[0] == '0/0':\n",
    "                pollenSNP[coord][4] = lst[3]\n",
    "            elif gt[0] =='1/1':\n",
    "                pollenSNP[coord][4] = lst[4]\n",
    "                \n",
    "                \n",
    "                \n",
    "fh1 = open('Pollen5_SNPs_with_na.Het.txt', 'wt')\n",
    "fh2 = open('Pollen5_SNPs_with_no_missing.Het.txt', 'wt')\n",
    "\n",
    "fh1.write('\\t'+'\\t'.join(['donor', 'ref', 'alt', 'pol41', 'pol42', 'pol43', 'pol44', 'pol45'])+'\\n')\n",
    "fh2.write('\\t'+'\\t'.join(['donor', 'ref', 'alt', 'pol41', 'pol42', 'pol43', 'pol44', 'pol45'])+'\\n')\n",
    "filteredNum = 0\n",
    "for ke in donorSNP.keys():\n",
    "    fh1.write('\\t'.join([ke,donorSNP[ke],refSNP[ke],altSNP[ke]]+pollenSNP[ke])+'\\n')\n",
    "    \n",
    "    if 'NA' in pollenSNP[ke]:\n",
    "        filteredNum += 1\n",
    "        continue\n",
    "    fh2.write('\\t'.join([ke,donorSNP[ke],refSNP[ke],altSNP[ke]]+pollenSNP[ke])+'\\n')\n",
    "    \n",
    "fh1.close()\n",
    "fh2.close()\n",
    "\n",
    "print ('Number of heterozygous SNPs: %d' %len(donorSNP))\n",
    "print ('Number of SNPs without NA: %d' %(len(donorSNP)-filteredNum))"
   ]
  },
  {
   "cell_type": "code",
   "execution_count": 4,
   "metadata": {
    "collapsed": false
   },
   "outputs": [],
   "source": [
    "scaffold = OrderedDict()\n",
    "fh = open('Pollen5_SNPs_with_no_missing.Het.tmp', 'wt')\n",
    "with open('Pollen5_SNPs_with_no_missing.Het.txt', 'rt') as f:\n",
    "    for line in f:\n",
    "        line = line.rstrip()\n",
    "        lst = line.split('\\t')\n",
    "        if not line.startswith('scaffold') and not line.startswith('chr'):\n",
    "            continue\n",
    "        else:\n",
    "            scfd = lst[0].split(':')[0]\n",
    "            if scfd not in scaffold.keys():\n",
    "                fh.close()\n",
    "                scaffold[scfd] = 1\n",
    "                fh = open('Pollen5_SNPs_with_no_missing.Het.'+scfd+'.txt', 'wt')\n",
    "                fh.write('\\t'+'\\t'.join(['donor','ref','alt', 'pol41', 'pol42', 'pol43', 'pol44', 'pol45'])+'\\n')\n",
    "            fh.write(line+'\\n')\n",
    "    fh.close()"
   ]
  },
  {
   "cell_type": "code",
   "execution_count": null,
   "metadata": {
    "collapsed": true
   },
   "outputs": [],
   "source": []
  },
  {
   "cell_type": "code",
   "execution_count": 5,
   "metadata": {
    "collapsed": true
   },
   "outputs": [],
   "source": [
    "scaffold = OrderedDict()\n",
    "fh = open('Pollen5_SNPs_with_na.Het.tmp', 'wt')\n",
    "with open('Pollen5_SNPs_with_na.Het.txt', 'rt') as f:\n",
    "    for line in f:\n",
    "        line = line.rstrip()\n",
    "        lst = line.split('\\t')\n",
    "        if not line.startswith('scaffold') and not line.startswith('chr'):\n",
    "            continue\n",
    "        else:\n",
    "            scfd = lst[0].split(':')[0]\n",
    "            if scfd not in scaffold.keys():\n",
    "                fh.close()\n",
    "                scaffold[scfd] = 1\n",
    "                fh = open('Pollen5_SNPs_with_na.Het.'+scfd+'.txt', 'wt')\n",
    "                fh.write('\\t'+'\\t'.join(['donor','ref','alt', 'pol41', 'pol42', 'pol43', 'pol44', 'pol45'])+'\\n')\n",
    "            fh.write(line+'\\n')\n",
    "    fh.close()"
   ]
  },
  {
   "cell_type": "code",
   "execution_count": null,
   "metadata": {
    "collapsed": true
   },
   "outputs": [],
   "source": []
  },
  {
   "cell_type": "code",
   "execution_count": 14,
   "metadata": {
    "collapsed": false
   },
   "outputs": [],
   "source": [
    "###### check wrong genotypes\n",
    "\n",
    "wrongGeno = OrderedDict()\n",
    "with open('scaffolds_het/check_wrong_genotypes.scfd1.txt') as f:\n",
    "    for line in f:\n",
    "        line = line.rstrip()\n",
    "        lst = line.split('\\t')\n",
    "        wrongGeno[lst[0]] = 1\n",
    "    \n",
    "fh1 = open('scaffolds_het/check_wrong_genotypes.scfd1.donor.txt', 'wt')\n",
    "fh2 = open('scaffolds_het/check_wrong_genotypes.scfd1.pollens.txt', 'wt')\n",
    "\n",
    "with open('dbSNP.clean.Het.vcf', 'rt') as f:\n",
    "    for line in f:\n",
    "        line = line.rstrip()\n",
    "        if line.startswith('#'):\n",
    "            continue\n",
    "            \n",
    "        lst = line.split('\\t')\n",
    "        coord = lst[0]+':'+lst[1]\n",
    "        if coord in wrongGeno.keys():\n",
    "            fh1.write(line+'\\n')\n",
    "        \n",
    "pollenWrongGeno = OrderedDict()\n",
    "        \n",
    "with open('Pollen41_GT.gatk.raw.vcf','rt') as f:\n",
    "    for line in f:\n",
    "        line = line.rstrip()\n",
    "        \n",
    "        if line.startswith('#'):\n",
    "            continue\n",
    "            \n",
    "        lst = line.split('\\t')\n",
    "        coord = lst[0]+':'+lst[1]\n",
    "        \n",
    "        if coord in wrongGeno.keys():\n",
    "            pollenWrongGeno[coord] = []\n",
    "            pollenWrongGeno[coord].append(line)\n",
    "            \n",
    "            \n",
    "with open('Pollen43_GT.gatk.raw.vcf','rt') as f:\n",
    "    for line in f:\n",
    "        line = line.rstrip()\n",
    "        \n",
    "        if line.startswith('#'):\n",
    "            continue\n",
    "            \n",
    "        lst = line.split('\\t')\n",
    "        coord = lst[0]+':'+lst[1]\n",
    "        \n",
    "        if coord in wrongGeno.keys():\n",
    "            pollenWrongGeno[coord].append(line)\n",
    "            \n",
    "            \n",
    "with open('Pollen45_GT.gatk.raw.vcf','rt') as f:\n",
    "    for line in f:\n",
    "        line = line.rstrip()\n",
    "        \n",
    "        if line.startswith('#'):\n",
    "            continue\n",
    "            \n",
    "        lst = line.split('\\t')\n",
    "        coord = lst[0]+':'+lst[1]\n",
    "        \n",
    "        if coord in wrongGeno.keys():\n",
    "            pollenWrongGeno[coord].append(line)\n",
    "            \n",
    "            \n",
    "for ke,val in pollenWrongGeno.items():\n",
    "    fh2.write(ke+'\\n'+'\\n'.join(val)+'\\n\\n')\n",
    "    \n",
    "    \n",
    "fh1.close()\n",
    "fh2.close()"
   ]
  },
  {
   "cell_type": "code",
   "execution_count": null,
   "metadata": {
    "collapsed": true
   },
   "outputs": [],
   "source": []
  },
  {
   "cell_type": "markdown",
   "metadata": {
    "collapsed": true
   },
   "source": [
    "#### for presentation"
   ]
  },
  {
   "cell_type": "code",
   "execution_count": 1,
   "metadata": {
    "collapsed": true
   },
   "outputs": [],
   "source": [
    "import os\n",
    "import re\n",
    "from collections import OrderedDict\n",
    "os.chdir('/home/ruidong/Documents/Research/Haplotype/Data/Chen/')\n",
    "\n",
    "donorSNP = OrderedDict()\n",
    "refSNP = OrderedDict() \n",
    "altSNP = OrderedDict()\n",
    "pollenSNP = OrderedDict()\n",
    "\n",
    "with open('dbSNP.clean.Het.vcf', 'rt') as f:\n",
    "    for line in f:\n",
    "        line = line.rstrip()\n",
    "        lst = line.split('\\t')\n",
    "        \n",
    "        if line.startswith('#'):\n",
    "            continue\n",
    "        \n",
    "        elif lst[-1].startswith('0/0') or lst[-1].startswith('1/1'):\n",
    "            continue\n",
    "            \n",
    "        else:\n",
    "            coord = lst[0]+':'+lst[1]\n",
    "            refSNP[coord] = lst[3]\n",
    "            altSNP[coord] = lst[4]\n",
    "            donorSNP[coord] = lst[3]+'/'+lst[4]\n",
    "            pollenSNP[coord] = ['NA']*3"
   ]
  },
  {
   "cell_type": "code",
   "execution_count": 8,
   "metadata": {
    "collapsed": false
   },
   "outputs": [
    {
     "name": "stdout",
     "output_type": "stream",
     "text": [
      "Number of heterozygous sites: 641838\n"
     ]
    }
   ],
   "source": [
    "#### Number of heterozygous sites\n",
    "print ('Number of heterozygous sites: %d' %len(donorSNP))"
   ]
  },
  {
   "cell_type": "code",
   "execution_count": 13,
   "metadata": {
    "collapsed": false
   },
   "outputs": [
    {
     "name": "stdout",
     "output_type": "stream",
     "text": [
      "506925 pollen3_SNPs_with_no_missing.Het.txt\r\n"
     ]
    }
   ],
   "source": [
    "!wc -l pollen3_SNPs_with_no_missing.Het.txt"
   ]
  },
  {
   "cell_type": "code",
   "execution_count": 11,
   "metadata": {
    "collapsed": false
   },
   "outputs": [
    {
     "data": {
      "text/plain": [
       "0"
      ]
     },
     "execution_count": 11,
     "metadata": {},
     "output_type": "execute_result"
    }
   ],
   "source": []
  },
  {
   "cell_type": "code",
   "execution_count": 15,
   "metadata": {
    "collapsed": false
   },
   "outputs": [
    {
     "name": "stdout",
     "output_type": "stream",
     "text": [
      "52\n",
      "23\n",
      "87\n"
     ]
    }
   ],
   "source": [
    "cv = []\n",
    "with open('scaffolds_het/crossoverInfo.scfd2.txt') as f:\n",
    "    for line in f:\n",
    "        line = line.rstrip()\n",
    "        if re.match('\\d+', line):\n",
    "            lst = line.split(' 888 ')\n",
    "            print (lst[0])\n",
    "            cv.extend(lst[1].split(' '))"
   ]
  },
  {
   "cell_type": "code",
   "execution_count": 19,
   "metadata": {
    "collapsed": false
   },
   "outputs": [],
   "source": [
    "cv = sorted([int(x) for x in cv])\n",
    "fh = open('scaffolds_het/extracted_cv_pos_scfd2.txt', 'wt')\n",
    "for x in cv:\n",
    "    fh.write(str(x)+'\\n')\n",
    "    \n",
    "fh.close()"
   ]
  },
  {
   "cell_type": "code",
   "execution_count": 24,
   "metadata": {
    "collapsed": false
   },
   "outputs": [],
   "source": [
    "wrongPos = []\n",
    "with open('scaffolds_het/extracted_wrong_cv_pos_scfd2.txt') as f:\n",
    "    for line in f:\n",
    "        line = int(line.rstrip())\n",
    "        wrongPos.append(line)\n",
    "\n",
    "\n",
    "fh = open('scaffolds_het/pollen3_SNPs_with_no_missing.Het.scaffold_2.corrected.txt', 'wt')\n",
    "lineNum = -1\n",
    "with open('scaffolds_het/pollen3_SNPs_with_no_missing.Het.scaffold_2.txt') as f:\n",
    "    for line in f:\n",
    "        lineNum += 1\n",
    "        if lineNum in wrongPos:\n",
    "            continue\n",
    "        else:\n",
    "            fh.write(line)\n",
    "            \n",
    "fh.close()\n",
    "        "
   ]
  },
  {
   "cell_type": "code",
   "execution_count": null,
   "metadata": {
    "collapsed": true
   },
   "outputs": [],
   "source": []
  },
  {
   "cell_type": "code",
   "execution_count": null,
   "metadata": {
    "collapsed": true
   },
   "outputs": [],
   "source": [
    "import os\n",
    "import re\n",
    "from collections import OrderedDict\n",
    "os.chdir('/home/ruidong/Documents/Research/Haplotype/')\n",
    "with open('')"
   ]
  },
  {
   "cell_type": "code",
   "execution_count": null,
   "metadata": {
    "collapsed": true
   },
   "outputs": [],
   "source": []
  }
 ],
 "metadata": {
  "anaconda-cloud": {},
  "kernelspec": {
   "display_name": "Python [Root]",
   "language": "python",
   "name": "Python [Root]"
  },
  "language_info": {
   "codemirror_mode": {
    "name": "ipython",
    "version": 3
   },
   "file_extension": ".py",
   "mimetype": "text/x-python",
   "name": "python",
   "nbconvert_exporter": "python",
   "pygments_lexer": "ipython3",
   "version": "3.5.2"
  }
 },
 "nbformat": 4,
 "nbformat_minor": 0
}

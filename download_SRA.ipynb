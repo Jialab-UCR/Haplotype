{
 "cells": [
  {
   "cell_type": "code",
   "execution_count": null,
   "metadata": {
    "collapsed": true
   },
   "outputs": [],
   "source": [
    "##### download sra, not sure if it works\n",
    "import os\n",
    "from os import system\n",
    "\n",
    "## ftp://ftp-trace.ncbi.nlm.nih.gov/sra/sra-instant/reads/ByRun/sra/SRR/\n",
    "os.chdir('/home/ruidong/Documents/Research/Haplotype/Data/')\n",
    "samples = []\n",
    "with open('SRR_Acc_List.txt') as f:\n",
    "    for line in f:\n",
    "        line = line.rstrip()\n",
    "        samples.append(line)\n",
    "        \n",
    "ftp = 'ftp://ftp.sra.ebi.ac.uk/vol1/fastq/SRR618/'\n",
    "# eg. 'ftp://ftp.sra.ebi.ac.uk/vol1/fastq/SRR618/SRR618565/SRR618565_1.fastq.gz'\n",
    "for sam in samples:\n",
    "    sam1 = ftp + sam+'/'+sam+'_1.fastq.gz'\n",
    "    sam2 = ftp + sam+'/'+sam+'_2.fastq.gz'\n",
    "    \n",
    "    system('wget '+ sam1)\n",
    "    system('wget '+ sam2)"
   ]
  },
  {
   "cell_type": "code",
   "execution_count": null,
   "metadata": {
    "collapsed": true
   },
   "outputs": [],
   "source": []
  },
  {
   "cell_type": "code",
   "execution_count": 3,
   "metadata": {
    "collapsed": false
   },
   "outputs": [],
   "source": [
    "#########################################\n",
    "########### download fastq ##############\n",
    "import os\n",
    "os.chdir('/home/ruidong/Documents/Research/Haplotype/Data/')\n",
    "\n",
    "sratoolkit = '~/Documents/Research/biobin/sratoolkit.2.8.1-2-ubuntu64/bin/'\n",
    "\n",
    "samples = []\n",
    "with open('SraAccList.txt') as f:\n",
    "    for line in f:\n",
    "        line = line.rstrip()\n",
    "        os.system(sratoolkit+'fastq-dump.2.8.1 -I --split-files '+line)\n",
    "        \n",
    "       "
   ]
  },
  {
   "cell_type": "code",
   "execution_count": null,
   "metadata": {
    "collapsed": true
   },
   "outputs": [],
   "source": []
  }
 ],
 "metadata": {
  "anaconda-cloud": {},
  "kernelspec": {
   "display_name": "Python [Root]",
   "language": "python",
   "name": "Python [Root]"
  },
  "language_info": {
   "codemirror_mode": {
    "name": "ipython",
    "version": 3
   },
   "file_extension": ".py",
   "mimetype": "text/x-python",
   "name": "python",
   "nbconvert_exporter": "python",
   "pygments_lexer": "ipython3",
   "version": "3.5.2"
  }
 },
 "nbformat": 4,
 "nbformat_minor": 0
}

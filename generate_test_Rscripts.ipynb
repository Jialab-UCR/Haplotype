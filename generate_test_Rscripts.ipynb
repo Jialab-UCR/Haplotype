{
 "cells": [
  {
   "cell_type": "code",
   "execution_count": 2,
   "metadata": {
    "collapsed": false
   },
   "outputs": [],
   "source": [
    "for m in range(0,80,10):\n",
    "    for p in range(13,16,1):\n",
    "        \n",
    "        fh = open('simulation.snp100K.error1.missing'+str(m)+'.pollen'+str(p)+'.R', 'wt')\n",
    "        with open('final.simulation_template.100K.R') as f:\n",
    "            for line in f:\n",
    "                line = line.rstrip()\n",
    "                if line.startswith('missingRate <-'):\n",
    "                    lst = line.split(' ')\n",
    "                    lst[-1] = str(m)\n",
    "                    fh.write(' '.join(lst)+'\\n')\n",
    "                \n",
    "                elif line.startswith('numOfPollens <-'):\n",
    "                    lst = line.split(' ')\n",
    "                    lst[-1] = str(p)\n",
    "                    fh.write(' '.join(lst)+'\\n')\n",
    "            \n",
    "                else:\n",
    "                    fh.write(line+'\\n')\n",
    "                \n",
    "        fh.close()\n",
    "                \n",
    "    \n",
    "\n",
    "            "
   ]
  },
  {
   "cell_type": "code",
   "execution_count": null,
   "metadata": {
    "collapsed": true
   },
   "outputs": [],
   "source": []
  }
 ],
 "metadata": {
  "anaconda-cloud": {},
  "kernelspec": {
   "display_name": "Python [Root]",
   "language": "python",
   "name": "Python [Root]"
  },
  "language_info": {
   "codemirror_mode": {
    "name": "ipython",
    "version": 3
   },
   "file_extension": ".py",
   "mimetype": "text/x-python",
   "name": "python",
   "nbconvert_exporter": "python",
   "pygments_lexer": "ipython3",
   "version": "3.5.2"
  }
 },
 "nbformat": 4,
 "nbformat_minor": 0
}
